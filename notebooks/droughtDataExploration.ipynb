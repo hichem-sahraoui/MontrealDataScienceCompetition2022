{
 "cells": [
  {
   "cell_type": "code",
   "execution_count": 1,
   "metadata": {
    "collapsed": true
   },
   "outputs": [],
   "source": [
    "import pandas as pd\n",
    "from pandas_profiling import ProfileReport"
   ]
  },
  {
   "cell_type": "code",
   "execution_count": 2,
   "outputs": [
    {
     "name": "stdout",
     "output_type": "stream",
     "text": [
      "2022-05-07 10:41:33,372 - root - INFO - Updated path to Kedro project: C:\\Users\\live_\\Documents\\Coding_practice\\CooperatorsDroughtPrediction\\droughtprediction\n",
      "2022-05-07 10:41:34,478 - kedro.framework.session.store - INFO - `read()` not implemented for `BaseSessionStore`. Assuming empty store.\n",
      "2022-05-07 10:41:34,551 - kedro.framework.session.session - WARNING - Unable to git describe C:\\Users\\live_\\Documents\\Coding_practice\\CooperatorsDroughtPrediction\\droughtprediction\n",
      "2022-05-07 10:41:34,701 - root - INFO - ** Kedro project DroughtPrediction\n",
      "2022-05-07 10:41:34,702 - root - INFO - Defined global variable `context`, `session`, `catalog` and `pipelines`\n",
      "2022-05-07 10:41:34,705 - root - INFO - No path argument was provided. Using: C:\\Users\\live_\\Documents\\Coding_practice\\CooperatorsDroughtPrediction\\droughtprediction\n",
      "2022-05-07 10:41:34,909 - kedro.framework.session.store - INFO - `read()` not implemented for `BaseSessionStore`. Assuming empty store.\n",
      "2022-05-07 10:41:34,964 - kedro.framework.session.session - WARNING - Unable to git describe C:\\Users\\live_\\Documents\\Coding_practice\\CooperatorsDroughtPrediction\\droughtprediction\n",
      "2022-05-07 10:41:34,979 - root - INFO - ** Kedro project DroughtPrediction\n",
      "2022-05-07 10:41:34,985 - root - INFO - Defined global variable `context`, `session`, `catalog` and `pipelines`\n"
     ]
    }
   ],
   "source": [
    "%load_ext kedro.extras.extensions.ipython\n",
    "%reload_kedro"
   ],
   "metadata": {
    "collapsed": false,
    "pycharm": {
     "name": "#%%\n"
    }
   }
  },
  {
   "cell_type": "code",
   "execution_count": 3,
   "outputs": [
    {
     "data": {
      "text/plain": "['droughtData', 'droughtValidationData', 'parameters']"
     },
     "execution_count": 3,
     "metadata": {},
     "output_type": "execute_result"
    }
   ],
   "source": [
    "catalog.list()"
   ],
   "metadata": {
    "collapsed": false,
    "pycharm": {
     "name": "#%%\n"
    }
   }
  }
 ],
 "metadata": {
  "kernelspec": {
   "display_name": "Python 3",
   "language": "python",
   "name": "python3"
  },
  "language_info": {
   "codemirror_mode": {
    "name": "ipython",
    "version": 2
   },
   "file_extension": ".py",
   "mimetype": "text/x-python",
   "name": "python",
   "nbconvert_exporter": "python",
   "pygments_lexer": "ipython2",
   "version": "2.7.6"
  }
 },
 "nbformat": 4,
 "nbformat_minor": 0
}